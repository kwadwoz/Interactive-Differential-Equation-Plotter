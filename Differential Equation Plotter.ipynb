{
 "cells": [
  {
   "cell_type": "code",
   "execution_count": null,
   "id": "060dcb81",
   "metadata": {},
   "outputs": [],
   "source": [
    "import tkinter as tk\n",
    "from tkinter import messagebox\n",
    "import matplotlib.pyplot as plt\n",
    "import numpy as np\n",
    "from matplotlib.backends.backend_tkagg import FigureCanvasTkAgg\n",
    "\n",
    "\n",
    "def plot_differential_equation():\n",
    "    equation = equation_entry.get()\n",
    "    try:\n",
    "        # Define the range of x values\n",
    "        x_values = np.linspace(0, 10, 400)  # from 0 to 10, 400 points in between\n",
    "\n",
    "        # Use numerical integration to find y values based on the user-defined differential equation\n",
    "        y_values = eval(equation.replace('x', 'x_values'))\n",
    "\n",
    "        # Clear previous plot\n",
    "        ax.clear()\n",
    "\n",
    "        # Plot the differential equation\n",
    "        ax.plot(x_values, y_values, label='Solution', color='b')\n",
    "        ax.set_xlabel('x')\n",
    "        ax.set_ylabel('y')\n",
    "        ax.set_title(f'Differential Equation: {equation}')\n",
    "        ax.legend()\n",
    "        ax.grid(True)\n",
    "\n",
    "        # Draw the updated plot\n",
    "        canvas.draw()\n",
    "    except Exception as e:\n",
    "        messagebox.showerror(\"Error\", f\"Invalid equation: {str(e)}\")\n",
    "\n",
    "\n",
    "# Create main window\n",
    "root = tk.Tk()\n",
    "root.title(\"Differential Equation Plotter\")\n",
    "\n",
    "# Create equation input field and plot button\n",
    "equation_label = tk.Label(root, text=\"Enter the differential equation (use 'x' as the variable):\")\n",
    "equation_label.pack()\n",
    "\n",
    "equation_entry = tk.Entry(root, width=40)\n",
    "equation_entry.pack()\n",
    "\n",
    "plot_button = tk.Button(root, text=\"Plot\", command=plot_differential_equation)\n",
    "plot_button.pack()\n",
    "\n",
    "# Create matplotlib figure and canvas to embed in Tkinter\n",
    "fig, ax = plt.subplots(figsize=(5, 4))\n",
    "canvas = FigureCanvasTkAgg(fig, master=root)\n",
    "canvas_widget = canvas.get_tk_widget()\n",
    "canvas_widget.pack(side=tk.TOP, fill=tk.BOTH, expand=1)\n",
    "\n",
    "# Start the Tkinter main loop\n",
    "tk.mainloop()\n"
   ]
  }
 ],
 "metadata": {
  "kernelspec": {
   "display_name": "Python 3 (ipykernel)",
   "language": "python",
   "name": "python3"
  },
  "language_info": {
   "codemirror_mode": {
    "name": "ipython",
    "version": 3
   },
   "file_extension": ".py",
   "mimetype": "text/x-python",
   "name": "python",
   "nbconvert_exporter": "python",
   "pygments_lexer": "ipython3",
   "version": "3.10.9"
  }
 },
 "nbformat": 4,
 "nbformat_minor": 5
}
